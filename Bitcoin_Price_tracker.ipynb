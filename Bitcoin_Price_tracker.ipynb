{
  "nbformat": 4,
  "nbformat_minor": 0,
  "metadata": {
    "colab": {
      "provenance": []
    },
    "kernelspec": {
      "name": "python3",
      "display_name": "Python 3"
    },
    "language_info": {
      "name": "python"
    }
  },
  "cells": [
    {
      "cell_type": "code",
      "execution_count": 1,
      "metadata": {
        "id": "2s7UbMPEwV9k"
      },
      "outputs": [],
      "source": [
        "import requests\n",
        "from bs4 import BeautifulSoup"
      ]
    },
    {
      "cell_type": "code",
      "source": [
        "url = \"https://www.binance.com/en-IN/price/bitcoin/INR\"\n",
        "response = requests.get(url)\n",
        "print(response)"
      ],
      "metadata": {
        "colab": {
          "base_uri": "https://localhost:8080/"
        },
        "id": "4CQipXW2xr9g",
        "outputId": "db5ce6e9-3e6a-4982-fd69-c7cbedd4ff93"
      },
      "execution_count": 3,
      "outputs": [
        {
          "output_type": "stream",
          "name": "stdout",
          "text": [
            "<Response [200]>\n"
          ]
        }
      ]
    },
    {
      "cell_type": "code",
      "source": [
        "soup = BeautifulSoup(response.text, \"lxml\")"
      ],
      "metadata": {
        "id": "TX0aU2E_x2kj"
      },
      "execution_count": 4,
      "outputs": []
    },
    {
      "cell_type": "code",
      "source": [
        "uneditedPrice = soup.find(class_=\"css-zo19gu\").text\n",
        "print(uneditedPrice)"
      ],
      "metadata": {
        "colab": {
          "base_uri": "https://localhost:8080/"
        },
        "id": "W23hs4z-x5Jb",
        "outputId": "5aaa164b-6499-487b-b8b4-f95c69936016"
      },
      "execution_count": 5,
      "outputs": [
        {
          "output_type": "stream",
          "name": "stdout",
          "text": [
            "INR ₹5,117,697.25\n"
          ]
        }
      ]
    },
    {
      "cell_type": "code",
      "source": [
        "formattedPrice = uneditedPrice[5:]\n",
        "price = float(formattedPrice.replace(\",\", \"\"))\n",
        "print(price)"
      ],
      "metadata": {
        "colab": {
          "base_uri": "https://localhost:8080/"
        },
        "id": "c9GjoUljx9hN",
        "outputId": "6ac7c573-69c0-4ec8-c2c9-155fbfdd296e"
      },
      "execution_count": 6,
      "outputs": [
        {
          "output_type": "stream",
          "name": "stdout",
          "text": [
            "5117697.25\n"
          ]
        }
      ]
    },
    {
      "cell_type": "code",
      "source": [
        "myIdealPrice = 6000000\n",
        "if price <= myIdealPrice:\n",
        "    print(f\"The current price for 1 BTC is {uneditedPrice}. This is below or equal to your ideal price of {myIdealPrice}.\")\n",
        "else:\n",
        "    print(f\"The current price for 1 BTC is {uneditedPrice}. This is above your ideal price of ₹{myIdealPrice}.\")\n"
      ],
      "metadata": {
        "colab": {
          "base_uri": "https://localhost:8080/"
        },
        "id": "I27UbpYGyA9u",
        "outputId": "ae1d7a20-19db-4ad0-b2b8-44242dc09aea"
      },
      "execution_count": 12,
      "outputs": [
        {
          "output_type": "stream",
          "name": "stdout",
          "text": [
            "The current price for 1 BTC is INR ₹5,117,697.25. This is below or equal to your ideal price of 6000000.\n"
          ]
        }
      ]
    }
  ]
}